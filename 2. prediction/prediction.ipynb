{
 "cells": [
  {
   "cell_type": "markdown",
   "metadata": {},
   "source": [
    "# Introduction\n",
    "\n",
    "Neural networks can also be used for prediction.\n",
    "\n",
    "In this exercise we use a part of the signal to predict the next signal."
   ]
  },
  {
   "cell_type": "code",
   "execution_count": null,
   "metadata": {},
   "outputs": [],
   "source": [
    "import numpy as np\n",
    "import matplotlib.pyplot as plt\n",
    "import tensorflow as tf"
   ]
  },
  {
   "cell_type": "code",
   "execution_count": null,
   "metadata": {},
   "outputs": [],
   "source": [
    "# Generate synthetic sinusoidal data\n",
    "t = np.linspace(0, 100, 1000)\n",
    "signal = np.sin(t)"
   ]
  },
  {
   "cell_type": "markdown",
   "metadata": {},
   "source": [
    "# Exercises\n",
    "\n",
    "## Exercise 1\n",
    "\n",
    "Create a window function which moves over the signal with a window size of 150.\n",
    "\n",
    "The input should this be 150 values and the output is as well because we are using a part of the signal to predict the next part.\n",
    "\n",
    "The shape should be (1700, 150)."
   ]
  },
  {
   "cell_type": "code",
   "execution_count": null,
   "metadata": {},
   "outputs": [],
   "source": [
    "sequences = []\n",
    "labels = []\n",
    "window_size = 150\n",
    "for i in range(len(signal)):\n",
    "    if i < (len(signal) - 2 * window_size):\n",
    "        window = signal[i:i + window_size]\n",
    "        next_window = signal[i + window_size: i + 2 * window_size]\n",
    "        sequences.append(window)\n",
    "        labels.append(next_window)\n",
    "\n",
    "sequences = [e for e in sequences if len(e) == window_size]\n",
    "labels = [e for e in labels if len(e) == window_size]\n",
    "\n",
    "sequences = np.array(sequences)\n",
    "labels = np.array(labels)"
   ]
  },
  {
   "cell_type": "code",
   "execution_count": null,
   "metadata": {},
   "outputs": [],
   "source": [
    "plt.figure(figsize=(14, 7))\n",
    "plt.title('Example of the signal')\n",
    "plt.plot(signal[0:window_size], label='True Sinusoid', color='blue')\n",
    "plt.xlabel('Time')\n",
    "plt.ylabel('Amplitude')\n",
    "plt.legend()\n",
    "plt.show()"
   ]
  },
  {
   "cell_type": "markdown",
   "metadata": {},
   "source": [
    "## Exercise 2\n",
    "\n",
    "What should the activation function be?\n",
    "\n",
    "Could we use another activation function if we normalized between 0 and 1?"
   ]
  },
  {
   "cell_type": "code",
   "execution_count": null,
   "metadata": {},
   "outputs": [],
   "source": [
    "# Split the data into training and test sets\n",
    "train_size = int(0.8 * len(sequences))\n",
    "train_sequences = sequences[:train_size]\n",
    "train_labels = labels[:train_size]\n",
    "test_sequences = sequences[train_size:]\n",
    "test_labels = labels[train_size:]\n",
    "\n",
    "# Reshape the data for RNN\n",
    "train_sequences = np.reshape(train_sequences, (train_sequences.shape[0], train_sequences.shape[1], 1))\n",
    "test_sequences = np.reshape(test_sequences, (test_sequences.shape[0], test_sequences.shape[1], 1))\n",
    "\n",
    "# Build the RNN model\n",
    "model = tf.keras.models.Sequential([\n",
    "    tf.keras.layers.SimpleRNN(50, activation='relu', return_sequences=True, input_shape=(window_size, 1)),\n",
    "    tf.keras.layers.SimpleRNN(50, activation='relu'),\n",
    "    tf.keras.layers.Dense(window_size, activation='linear')\n",
    "])\n",
    "\n",
    "# Compile the model\n",
    "model.compile(optimizer='adam', loss='mean_squared_error')\n",
    "\n",
    "# Train the model\n",
    "history = model.fit(train_sequences, train_labels, epochs=10, batch_size=32, validation_data=(test_sequences, test_labels))"
   ]
  },
  {
   "cell_type": "markdown",
   "metadata": {},
   "source": [
    "## Exercise 3\n",
    "\n",
    "Predict the next part of the signal."
   ]
  },
  {
   "cell_type": "code",
   "execution_count": null,
   "metadata": {},
   "outputs": [],
   "source": [
    "# Predict on test data\n",
    "predictions = model.predict(test_sequences)\n",
    "predictions.shape"
   ]
  },
  {
   "cell_type": "code",
   "execution_count": null,
   "metadata": {},
   "outputs": [],
   "source": [
    "# Plot the true sinusoidal function and predictions\n",
    "true_signal = test_sequences[0].reshape(-1)\n",
    "predicted_next_part_of_signal = np.append(true_signal, predictions[0].reshape(-1))\n",
    "plt.figure(figsize=(14, 7))\n",
    "plt.title('Sinusoidal Function Prediction using RNN')\n",
    "plt.plot(true_signal, label='True Sinusoid', color='blue')\n",
    "plt.plot(predicted_next_part_of_signal, label='Predicted Sinusoid', color='red', linestyle='--')\n",
    "plt.xlabel('Time')\n",
    "plt.ylabel('Amplitude')\n",
    "plt.legend()\n",
    "plt.show()"
   ]
  },
  {
   "cell_type": "markdown",
   "metadata": {},
   "source": [
    "# Bonus\n",
    "\n",
    "Use prediction to generate new prediction.\n",
    "\n",
    "Determine what the shape of the testdata was and try to reshape it such that it fits in the `predict` function."
   ]
  },
  {
   "cell_type": "code",
   "execution_count": null,
   "metadata": {},
   "outputs": [],
   "source": [
    "# Predict on test data\n",
    "next_prediction = model.predict(predictions[0].reshape(1,window_size,1))\n",
    "next_prediction.shape"
   ]
  },
  {
   "cell_type": "code",
   "execution_count": null,
   "metadata": {},
   "outputs": [],
   "source": [
    "# Plot the true sinusoidal function and predictions\n",
    "true_signal = test_sequences[0].reshape(-1)\n",
    "predicted_next_part_of_signal = np.append(true_signal, predictions[0].reshape(-1))\n",
    "predicted_next_next_part_of_signal = np.append(predicted_next_part_of_signal, next_prediction)\n",
    "plt.figure(figsize=(14, 7))\n",
    "plt.title('Sinusoidal Function Prediction using using previous prediction')\n",
    "plt.plot(true_signal, label='True Sinusoid', color='blue')\n",
    "plt.plot(predicted_next_part_of_signal, label='Predicted Sinusoid', color='red', linestyle='--')\n",
    "plt.plot(predicted_next_next_part_of_signal, label='Predicted Sinusoid using prediction', color='green', linestyle='dotted')\n",
    "plt.xlabel('Time')\n",
    "plt.ylabel('Amplitude')\n",
    "plt.legend()\n",
    "plt.show()"
   ]
  }
 ],
 "metadata": {
  "kernelspec": {
   "display_name": "interay-ofPTlAwe-py3.12",
   "language": "python",
   "name": "python3"
  },
  "language_info": {
   "codemirror_mode": {
    "name": "ipython",
    "version": 3
   },
   "file_extension": ".py",
   "mimetype": "text/x-python",
   "name": "python",
   "nbconvert_exporter": "python",
   "pygments_lexer": "ipython3",
   "version": "3.12.2"
  }
 },
 "nbformat": 4,
 "nbformat_minor": 2
}
