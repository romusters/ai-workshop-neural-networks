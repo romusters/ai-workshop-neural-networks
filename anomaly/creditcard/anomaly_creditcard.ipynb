{
 "cells": [
  {
   "cell_type": "code",
   "execution_count": null,
   "metadata": {},
   "outputs": [],
   "source": [
    "import numpy as np\n",
    "import matplotlib.pyplot as plt\n",
    "import pandas as pd\n",
    "from sklearn.model_selection import train_test_split\n",
    "from sklearn.preprocessing import StandardScaler\n",
    "from sklearn.metrics import accuracy_score\n",
    "import tensorflow as tf\n",
    "from tensorflow.keras import layers, models\n",
    "\n"
   ]
  },
  {
   "cell_type": "code",
   "execution_count": 8,
   "metadata": {},
   "outputs": [
    {
     "name": "stderr",
     "output_type": "stream",
     "text": [
      "'wget' is not recognized as an internal or external command,\n",
      "operable program or batch file.\n"
     ]
    }
   ],
   "source": [
    "!wget -O https://drive.google.com/file/d/1M4CIY_xH-8ySb615sdFwPvmWVzMLK8uR/view?usp=sharing > data/creditcard.csv"
   ]
  },
  {
   "cell_type": "code",
   "execution_count": null,
   "metadata": {},
   "outputs": [],
   "source": [
    "# Load the dataset\n",
    "df = pd.read_csv('creditcard.csv')\n",
    "# Drop the 'Time' column as it may not be relevant for anomaly detection\n",
    "df = df.drop(['Time'], axis=1)\n",
    "\n",
    "# Standardize the features\n",
    "scaler = StandardScaler()\n",
    "df['Amount'] = scaler.fit_transform(df['Amount'].values.reshape(-1, 1))\n",
    "df['Class'] = df['Class'].astype(str) # Convert Class column to string for one-hot encoding\n",
    "\n",
    "# Create one-hot encoding for the 'Class' column\n",
    "df = pd.get_dummies(df, columns=['Class'], prefix=['Class'])\n",
    "\n",
    "# Split the dataset into train and test sets\n",
    "train_data, test_data = train_test_split(df, test_size=0.2, random_state=42)\n",
    "\n",
    "# Extract features (X) and labels (y) for training and testing\n",
    "X_train = train_data.drop(['Class_0', 'Class_1'], axis=1).values\n",
    "y_train = train_data[['Class_0', 'Class_1']].values\n",
    "\n",
    "X_test = test_data.drop(['Class_0', 'Class_1'], axis=1).values\n",
    "y_test = test_data[['Class_0', 'Class_1']].values\n"
   ]
  }
 ],
 "metadata": {
  "kernelspec": {
   "display_name": "interay-ofPTlAwe-py3.12",
   "language": "python",
   "name": "python3"
  },
  "language_info": {
   "codemirror_mode": {
    "name": "ipython",
    "version": 3
   },
   "file_extension": ".py",
   "mimetype": "text/x-python",
   "name": "python",
   "nbconvert_exporter": "python",
   "pygments_lexer": "ipython3",
   "version": "3.12.2"
  }
 },
 "nbformat": 4,
 "nbformat_minor": 2
}
